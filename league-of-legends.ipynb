{
 "cells": [
  {
   "cell_type": "markdown",
   "id": "2da1d68c",
   "metadata": {
    "papermill": {
     "duration": 0.010676,
     "end_time": "2023-09-08T11:31:50.720556",
     "exception": false,
     "start_time": "2023-09-08T11:31:50.709880",
     "status": "completed"
    },
    "tags": []
   },
   "source": [
    "## 1.Importing Needed libraries"
   ]
  },
  {
   "cell_type": "code",
   "execution_count": null,
   "id": "d2ab7a02",
   "metadata": {
    "execution": {
     "iopub.execute_input": "2023-09-08T11:31:50.742769Z",
     "iopub.status.busy": "2023-09-08T11:31:50.742150Z",
     "iopub.status.idle": "2023-09-08T11:31:53.780669Z",
     "shell.execute_reply": "2023-09-08T11:31:53.779225Z"
    },
    "papermill": {
     "duration": 3.053282,
     "end_time": "2023-09-08T11:31:53.783758",
     "exception": false,
     "start_time": "2023-09-08T11:31:50.730476",
     "status": "completed"
    },
    "tags": []
   },
   "outputs": [],
   "source": [
    "import pandas as pd\n",
    "import seaborn as sns\n",
    "import matplotlib.pyplot as plt\n",
    "from sklearn.model_selection import train_test_split,GridSearchCV\n",
    "from sklearn.tree import DecisionTreeClassifier\n",
    "from sklearn.ensemble import RandomForestClassifier\n",
    "from sklearn.preprocessing import StandardScaler\n",
    "from sklearn.metrics import accuracy_score\n",
    "import warnings\n",
    "warnings.filterwarnings(\"ignore\")"
   ]
  },
  {
   "cell_type": "markdown",
   "id": "6c7c7e4f",
   "metadata": {
    "papermill": {
     "duration": 0.009112,
     "end_time": "2023-09-08T11:31:53.802733",
     "exception": false,
     "start_time": "2023-09-08T11:31:53.793621",
     "status": "completed"
    },
    "tags": []
   },
   "source": [
    "## 2.Calling the path of data"
   ]
  },
  {
   "cell_type": "code",
   "execution_count": null,
   "id": "27cf0bfa",
   "metadata": {
    "execution": {
     "iopub.execute_input": "2023-09-08T11:31:53.824851Z",
     "iopub.status.busy": "2023-09-08T11:31:53.824176Z",
     "iopub.status.idle": "2023-09-08T11:31:53.830309Z",
     "shell.execute_reply": "2023-09-08T11:31:53.828912Z"
    },
    "papermill": {
     "duration": 0.020155,
     "end_time": "2023-09-08T11:31:53.832815",
     "exception": false,
     "start_time": "2023-09-08T11:31:53.812660",
     "status": "completed"
    },
    "tags": []
   },
   "outputs": [],
   "source": [
    "lol_data = (\"./data/games.csv\")"
   ]
  },
  {
   "cell_type": "markdown",
   "id": "df6cf7fa",
   "metadata": {
    "papermill": {
     "duration": 0.010167,
     "end_time": "2023-09-08T11:31:53.853051",
     "exception": false,
     "start_time": "2023-09-08T11:31:53.842884",
     "status": "completed"
    },
    "tags": []
   },
   "source": [
    "## 2.Wrangling Function for data"
   ]
  },
  {
   "cell_type": "code",
   "execution_count": null,
   "id": "f93407bb",
   "metadata": {
    "execution": {
     "iopub.execute_input": "2023-09-08T11:31:53.874621Z",
     "iopub.status.busy": "2023-09-08T11:31:53.874131Z",
     "iopub.status.idle": "2023-09-08T11:31:53.884202Z",
     "shell.execute_reply": "2023-09-08T11:31:53.882673Z"
    },
    "papermill": {
     "duration": 0.024033,
     "end_time": "2023-09-08T11:31:53.886903",
     "exception": false,
     "start_time": "2023-09-08T11:31:53.862870",
     "status": "completed"
    },
    "tags": []
   },
   "outputs": [],
   "source": [
    "def wrangle(lol_path):\n",
    "    # Calling data\n",
    "    lol = pd.read_csv(lol_path)\n",
    "    # Simple look at data\n",
    "    print(lol.head())\n",
    "    # Simple Info of data\n",
    "    print(lol.info())\n",
    "    # Null values?\n",
    "    print(lol.describe())\n",
    "    # Getting only needed columns, which will help in classification problem\n",
    "    League_Data=lol[[\"winner\",\"firstBlood\",\"firstTower\",\"firstInhibitor\",\"firstBaron\",\"firstDragon\",\"firstRiftHerald\",\"t1_towerKills\",\"t1_inhibitorKills\",'t1_baronKills',\n",
    "       't1_dragonKills','t2_towerKills','t2_inhibitorKills', 't2_baronKills', 't2_dragonKills']]\n",
    "    print(\"Checking any irrelevant in data ✅\")\n",
    "    print(\"Info of data ✅\")\n",
    "    print(\"Retrieving only needed columns from data ✅\")\n",
    "    return League_Data\n",
    "    "
   ]
  },
  {
   "cell_type": "code",
   "execution_count": null,
   "id": "539b03c3",
   "metadata": {
    "execution": {
     "iopub.execute_input": "2023-09-08T11:31:53.909550Z",
     "iopub.status.busy": "2023-09-08T11:31:53.908007Z",
     "iopub.status.idle": "2023-09-08T11:31:54.783953Z",
     "shell.execute_reply": "2023-09-08T11:31:54.781302Z"
    },
    "papermill": {
     "duration": 0.890074,
     "end_time": "2023-09-08T11:31:54.786942",
     "exception": false,
     "start_time": "2023-09-08T11:31:53.896868",
     "status": "completed"
    },
    "tags": []
   },
   "outputs": [],
   "source": [
    "lol = wrangle(lol_path=lol_data)"
   ]
  },
  {
   "cell_type": "markdown",
   "id": "b2f63936",
   "metadata": {
    "papermill": {
     "duration": 0.010377,
     "end_time": "2023-09-08T11:31:54.807973",
     "exception": false,
     "start_time": "2023-09-08T11:31:54.797596",
     "status": "completed"
    },
    "tags": []
   },
   "source": [
    "## 3.Some EDA for data\n",
    "### League has 2 side, top right and bottom left, and the blue team is in the side of bottom left, while red team are at top right of the map "
   ]
  },
  {
   "cell_type": "code",
   "execution_count": null,
   "id": "b4857ed0",
   "metadata": {
    "execution": {
     "iopub.execute_input": "2023-09-08T11:31:54.831936Z",
     "iopub.status.busy": "2023-09-08T11:31:54.830665Z",
     "iopub.status.idle": "2023-09-08T11:31:54.847752Z",
     "shell.execute_reply": "2023-09-08T11:31:54.846493Z"
    },
    "papermill": {
     "duration": 0.032119,
     "end_time": "2023-09-08T11:31:54.850825",
     "exception": false,
     "start_time": "2023-09-08T11:31:54.818706",
     "status": "completed"
    },
    "tags": []
   },
   "outputs": [],
   "source": [
    "# Assigning each team in variable\n",
    "first_team = lol[lol.winner==1] \n",
    "second_team = lol[lol.winner==2]"
   ]
  },
  {
   "cell_type": "code",
   "execution_count": null,
   "id": "9067ac92",
   "metadata": {
    "execution": {
     "iopub.execute_input": "2023-09-08T11:31:54.873615Z",
     "iopub.status.busy": "2023-09-08T11:31:54.873150Z",
     "iopub.status.idle": "2023-09-08T11:31:54.904511Z",
     "shell.execute_reply": "2023-09-08T11:31:54.903293Z"
    },
    "papermill": {
     "duration": 0.045423,
     "end_time": "2023-09-08T11:31:54.906868",
     "exception": false,
     "start_time": "2023-09-08T11:31:54.861445",
     "status": "completed"
    },
    "tags": []
   },
   "outputs": [],
   "source": [
    "# Calculate the number of wins for each team and first blood combination\n",
    "win_counts = lol.groupby([\"winner\", \"firstBlood\"]).size().reset_index(name=\"count\")\n",
    "# Calculate the total number of wins for each team\n",
    "team_1_wins = win_counts[win_counts[\"winner\"] == 1][\"count\"].sum()\n",
    "team_2_wins = win_counts[win_counts[\"winner\"] == 2][\"count\"].sum()\n",
    "# Calculate the proportions of wins for team 1 when they had first blood, opponent had first blood, or in rematches\n",
    "team_1_win_first_blood_for_team_1 = win_counts[(win_counts[\"winner\"] == 1) & (win_counts[\"firstBlood\"] == 1)][\"count\"].values[0] / team_1_wins\n",
    "team_1_win_first_blood_for_team_2 = win_counts[(win_counts[\"winner\"] == 1) & (win_counts[\"firstBlood\"] == 2)][\"count\"].values[0] / team_1_wins\n",
    "team_1_win_first_blood_for_remake = win_counts[(win_counts[\"winner\"] == 1) & (win_counts[\"firstBlood\"] == 0)][\"count\"].values[0] / team_1_wins\n",
    "# Calculate the proportions of wins for team 2 when they had first blood, opponent had first blood, or in rematches\n",
    "team_2_win_first_blood_for_team_1 = win_counts[(win_counts[\"winner\"] == 2) & (win_counts[\"firstBlood\"] == 1)][\"count\"].values[0] / team_2_wins\n",
    "team_2_win_first_blood_for_team_2 = win_counts[(win_counts[\"winner\"] == 2) & (win_counts[\"firstBlood\"] == 2)][\"count\"].values[0] / team_2_wins\n",
    "team_2_win_first_blood_for_remake = win_counts[(win_counts[\"winner\"] == 2) & (win_counts[\"firstBlood\"] == 0)][\"count\"].values[0] / team_2_wins\n",
    "# Print the results\n",
    "print(f\"Proportion of wins for team 1 when they had the first blood: {team_1_win_first_blood_for_team_1:.1%}\"\n",
    ",f\"Proportion of wins for team 1 when the opponent had the first blood: {team_1_win_first_blood_for_team_2:.1%}\"\n",
    ",f\"Proportion of wins for team 1 in rematches: {team_1_win_first_blood_for_remake:.1%}\",sep='\\n')\n",
    "print(f\"Proportion of wins for team 2 when they had the first blood: {team_2_win_first_blood_for_team_1:.1%}\"\n",
    ",f\"Proportion of wins for team 2 when the opponent had the first blood: {team_2_win_first_blood_for_team_2:.1%}\"\n",
    ",f\"Proportion of wins for team 2 in rematches: {team_2_win_first_blood_for_remake:.1%}\",sep='\\n')"
   ]
  },
  {
   "cell_type": "code",
   "execution_count": null,
   "id": "028649c4",
   "metadata": {
    "execution": {
     "iopub.execute_input": "2023-09-08T11:31:54.929758Z",
     "iopub.status.busy": "2023-09-08T11:31:54.929275Z",
     "iopub.status.idle": "2023-09-08T11:31:56.826263Z",
     "shell.execute_reply": "2023-09-08T11:31:56.825251Z"
    },
    "papermill": {
     "duration": 1.912371,
     "end_time": "2023-09-08T11:31:56.829356",
     "exception": false,
     "start_time": "2023-09-08T11:31:54.916985",
     "status": "completed"
    },
    "tags": []
   },
   "outputs": [],
   "source": [
    "Towers_Barons_Drakes_Inhib=lol[[\"winner\",\"t1_towerKills\",\"t1_inhibitorKills\",\"t1_baronKills\",\"t1_dragonKills\",\"t2_towerKills\",\"t2_inhibitorKills\",\"t2_baronKills\",\"t2_dragonKills\"]]\n",
    "Towers_Barons_Drakes_Inhib.groupby(\"winner\").mean()\n",
    "Towers_Barons_Drakes_Inhib.groupby(\"winner\").mean().plot(kind=\"bar\",subplots=True,sharex=False,sharey=False,figsize=(20,10),layout=(2,4),title=\"Details of each team for winning his game\")\n",
    "plt.show()"
   ]
  },
  {
   "cell_type": "markdown",
   "id": "fba63d46",
   "metadata": {
    "papermill": {
     "duration": 0.011103,
     "end_time": "2023-09-08T11:31:56.852034",
     "exception": false,
     "start_time": "2023-09-08T11:31:56.840931",
     "status": "completed"
    },
    "tags": []
   },
   "source": [
    "## 4.Building our model\n",
    "### it's based on classifcation problem, so let's try Tree and Random forest!"
   ]
  },
  {
   "cell_type": "code",
   "execution_count": null,
   "id": "52bee45f",
   "metadata": {
    "execution": {
     "iopub.execute_input": "2023-09-08T11:31:56.878042Z",
     "iopub.status.busy": "2023-09-08T11:31:56.877189Z",
     "iopub.status.idle": "2023-09-08T11:31:56.886462Z",
     "shell.execute_reply": "2023-09-08T11:31:56.884962Z"
    },
    "papermill": {
     "duration": 0.02591,
     "end_time": "2023-09-08T11:31:56.889660",
     "exception": false,
     "start_time": "2023-09-08T11:31:56.863750",
     "status": "completed"
    },
    "tags": []
   },
   "outputs": [],
   "source": [
    "features = lol.drop(columns=['winner'])\n",
    "target = lol['winner']"
   ]
  },
  {
   "cell_type": "code",
   "execution_count": null,
   "id": "e424f01f",
   "metadata": {
    "execution": {
     "iopub.execute_input": "2023-09-08T11:31:56.915483Z",
     "iopub.status.busy": "2023-09-08T11:31:56.914985Z",
     "iopub.status.idle": "2023-09-08T11:31:56.954725Z",
     "shell.execute_reply": "2023-09-08T11:31:56.953325Z"
    },
    "papermill": {
     "duration": 0.056742,
     "end_time": "2023-09-08T11:31:56.958126",
     "exception": false,
     "start_time": "2023-09-08T11:31:56.901384",
     "status": "completed"
    },
    "tags": []
   },
   "outputs": [],
   "source": [
    "sd = StandardScaler()\n",
    "features = sd.fit_transform(features)\n",
    "X_train,X_test,y_train,y_test = train_test_split(features,target,test_size=0.2,random_state=42)\n",
    "print(X_train.shape,X_test.shape,y_train.shape,y_test.shape,sep=\"\\n\")\n",
    "X_train"
   ]
  },
  {
   "cell_type": "code",
   "execution_count": null,
   "id": "84f285bb",
   "metadata": {
    "execution": {
     "iopub.execute_input": "2023-09-08T11:31:56.984568Z",
     "iopub.status.busy": "2023-09-08T11:31:56.984074Z",
     "iopub.status.idle": "2023-09-08T11:31:56.995925Z",
     "shell.execute_reply": "2023-09-08T11:31:56.994326Z"
    },
    "papermill": {
     "duration": 0.028612,
     "end_time": "2023-09-08T11:31:56.998779",
     "exception": false,
     "start_time": "2023-09-08T11:31:56.970167",
     "status": "completed"
    },
    "tags": []
   },
   "outputs": [],
   "source": [
    "def model_creation(X_train, y_train):\n",
    "    # Define hyperparameters grid for DecisionTreeClassifier\n",
    "    tree_param_grid = {\n",
    "        'criterion': ['gini', 'entropy'],\n",
    "        'max_depth': [None, 10, 20, 30],\n",
    "        'min_samples_split': [2, 5, 10],\n",
    "        'min_samples_leaf': [1, 2, 4],\n",
    "        'splitter': ['best', 'random']  \n",
    "    }\n",
    "    # Create a DecisionTreeClassifier\n",
    "    tree_classifier = DecisionTreeClassifier(random_state=100)\n",
    "    # Perform grid search with cross-validation for DecisionTreeClassifier\n",
    "    tree_grid_search = GridSearchCV(tree_classifier, tree_param_grid, cv=5)\n",
    "    tree_grid_search.fit(X_train, y_train)\n",
    "    # Print the best hyperparameters for the DecisionTreeClassifier\n",
    "    print(\"Best hyperparameters for DecisionTreeClassifier:\")\n",
    "    print(tree_grid_search.best_params_)\n",
    "    # Define hyperparameters grid for RandomForestClassifier\n",
    "    rf_param_grid = {\n",
    "        'n_estimators': [50, 100, 200],\n",
    "        'criterion': ['gini', 'entropy'],\n",
    "        'max_depth': [None, 10, 20, 30]\n",
    "    }\n",
    "    # Create a RandomForestClassifier\n",
    "    rf_classifier = RandomForestClassifier(random_state=100)\n",
    "    # Perform grid search with cross-validation for RandomForestClassifier\n",
    "    rf_grid_search = GridSearchCV(rf_classifier, rf_param_grid, cv=5)\n",
    "    rf_grid_search.fit(X_train, y_train)\n",
    "    # Print the best hyperparameters for the RandomForestClassifier\n",
    "    print(\"Best hyperparameters for RandomForestClassifier:\")\n",
    "    print(rf_grid_search.best_params_)\n",
    "    \n",
    "    # Return the best models\n",
    "    best_tree_model = tree_grid_search.best_estimator_\n",
    "    best_rf_model = rf_grid_search.best_estimator_\n",
    "\n",
    "    return best_tree_model, best_rf_model\n"
   ]
  },
  {
   "cell_type": "code",
   "execution_count": null,
   "id": "1d9c3231",
   "metadata": {
    "execution": {
     "iopub.execute_input": "2023-09-08T11:31:57.030606Z",
     "iopub.status.busy": "2023-09-08T11:31:57.029301Z",
     "iopub.status.idle": "2023-09-08T11:38:20.943407Z",
     "shell.execute_reply": "2023-09-08T11:38:20.941892Z"
    },
    "papermill": {
     "duration": 383.945393,
     "end_time": "2023-09-08T11:38:20.959911",
     "exception": false,
     "start_time": "2023-09-08T11:31:57.014518",
     "status": "completed"
    },
    "tags": []
   },
   "outputs": [],
   "source": [
    "# Let's run it!\n",
    "best_tree_model, best_rf_model = model_creation(X_train, y_train)"
   ]
  },
  {
   "cell_type": "code",
   "execution_count": null,
   "id": "9227b15b",
   "metadata": {
    "execution": {
     "iopub.execute_input": "2023-09-08T11:38:20.994943Z",
     "iopub.status.busy": "2023-09-08T11:38:20.993377Z",
     "iopub.status.idle": "2023-09-08T11:38:21.895012Z",
     "shell.execute_reply": "2023-09-08T11:38:21.893731Z"
    },
    "papermill": {
     "duration": 0.92573,
     "end_time": "2023-09-08T11:38:21.898201",
     "exception": false,
     "start_time": "2023-09-08T11:38:20.972471",
     "status": "completed"
    },
    "tags": []
   },
   "outputs": [],
   "source": [
    "# print scores \n",
    "print(f\"Tree model has Achieved about : {best_tree_model.score(X_train,y_train):.2%}\",\n",
    "      f\"Random Forest model has Achieved about : {best_rf_model.score(X_train,y_train):.2%}\",sep=\"\\n\")"
   ]
  },
  {
   "cell_type": "code",
   "execution_count": null,
   "id": "b44bb8c7",
   "metadata": {
    "execution": {
     "iopub.execute_input": "2023-09-08T11:38:21.926480Z",
     "iopub.status.busy": "2023-09-08T11:38:21.925321Z",
     "iopub.status.idle": "2023-09-08T11:38:22.188907Z",
     "shell.execute_reply": "2023-09-08T11:38:22.186588Z"
    },
    "papermill": {
     "duration": 0.280749,
     "end_time": "2023-09-08T11:38:22.192056",
     "exception": false,
     "start_time": "2023-09-08T11:38:21.911307",
     "status": "completed"
    },
    "tags": []
   },
   "outputs": [],
   "source": [
    "# Testing score on Tree\n",
    "y_pred_tree = best_tree_model.predict(X_test)\n",
    "score_of_tree = accuracy_score(y_test,y_pred_tree)\n",
    "# Testing score on random forest\n",
    "y_pred_forest = best_rf_model.predict(X_test)\n",
    "score_of_forest = accuracy_score(y_test,y_pred_forest)\n",
    "print(f\"Test score at Tree = {score_of_tree:.2%}\",f\"Test score at forest = {score_of_forest:.2%}\",sep='\\n')"
   ]
  },
  {
   "cell_type": "markdown",
   "id": "269b546a",
   "metadata": {
    "papermill": {
     "duration": 0.012303,
     "end_time": "2023-09-08T11:38:22.216697",
     "exception": false,
     "start_time": "2023-09-08T11:38:22.204394",
     "status": "completed"
    },
    "tags": []
   },
   "source": [
    "## They are equal as well! no one better than other, but may that forest kinda better and acceptable"
   ]
  },
  {
   "cell_type": "markdown",
   "id": "94414093",
   "metadata": {
    "papermill": {
     "duration": 0.012333,
     "end_time": "2023-09-08T11:38:22.242436",
     "exception": false,
     "start_time": "2023-09-08T11:38:22.230103",
     "status": "completed"
    },
    "tags": []
   },
   "source": [
    "##### Let's try simple game, ok ? \n",
    "The first team secured the First Blood, First Tower, First Baron, First Dragon, and First Rift Herald, while the second team managed to claim only the First Inhibitor.\n",
    "\n",
    "Team 1 achieved 12 tower takedowns, 3 inhibitor takedowns, 2 Baron kills, and 5 dragon kills.\n",
    "\n",
    "On the other hand, Team 2 earned 9 tower takedowns, 3 inhibitor takedowns, 2 Baron kills, and 2 dragon kills."
   ]
  },
  {
   "cell_type": "code",
   "execution_count": null,
   "id": "e21d7364",
   "metadata": {},
   "outputs": [],
   "source": [
    "game_features = {\n",
    "    \"first_blood\": 1,\n",
    "    \"first_tower\": 1,\n",
    "    \"first_inhibitor\": 2,\n",
    "    \"first_Baron\": 1,\n",
    "    \"first_Dragon\": 1,\n",
    "    \"first_RiftHerald\": 1,\n",
    "    \"t1_tower\": 12,\n",
    "    \"t1_inhibitor\": 3,\n",
    "    \"t1_baron\": 2,\n",
    "    \"t1_dragon\": 5,\n",
    "    \"t2_tower\": 9,\n",
    "    \"t2_inhibitor\": 3,\n",
    "    \"t2_baron\": 2,\n",
    "    \"t2_dragon\": 2\n",
    "}\n",
    "\n",
    "# Convert the game features dictionary to a string\n",
    "game_features_str = str(game_features)\n",
    "\n",
    "# Generate a text based on the content of the above cell\n",
    "text = f\"Here are the game features:\\n{game_features_str}\"\n",
    "\n",
    "# Print the generated text\n",
    "print(text)\n",
    "\n",
    "result = \"\"\"The game started off with a bang as Team 1 drew First Blood, setting the pace for the rest of the match. They continued their aggressive play, taking down the First Tower, slaying the First Baron, the First Dragon, and capturing the First Rift Herald. Team 2, however, managed to strike back by taking down the First Inhibitor, showing that they were not out of the game yet.\n",
    "\n",
    "As the game progressed, Team 1 showed their dominance by taking down a total of 12 towers, 3 inhibitors, slaying the Baron twice, and securing 5 dragon kills. Their strategic play and control over the map were evident in their achievements.\n",
    "\n",
    "On the other hand, Team 2 put up a valiant fight. They managed to take down 9 towers and 3 inhibitors, showing their resilience. They also managed to slay the Baron twice and secured 2 dragon kills. Despite being on the back foot for most of the game, they demonstrated their tenacity and refusal to give up.\n",
    "\n",
    "In the end, both teams showed great skill and strategy, but Team 1's early game advantages and control over the map's objectives led them to victory.\"\"\""
   ]
  },
  {
   "cell_type": "code",
   "execution_count": null,
   "id": "c96a9113",
   "metadata": {
    "execution": {
     "iopub.execute_input": "2023-09-08T11:38:22.270214Z",
     "iopub.status.busy": "2023-09-08T11:38:22.268931Z",
     "iopub.status.idle": "2023-09-08T11:38:22.294144Z",
     "shell.execute_reply": "2023-09-08T11:38:22.292877Z"
    },
    "papermill": {
     "duration": 0.041969,
     "end_time": "2023-09-08T11:38:22.296710",
     "exception": false,
     "start_time": "2023-09-08T11:38:22.254741",
     "status": "completed"
    },
    "tags": []
   },
   "outputs": [],
   "source": [
    "game={\n",
    "    \"feature\":[\"first_blood\",\"first_tower\",\"first_inhibitor\",\"first_Baron\",\"first_Dragon\",\"first_RiftHerald\",\n",
    "\"t1_tower\",\"t1_inhibitor\",\"t1_baron\",\"t1_dragon\",\"t2_tower\",\"t2_inhibitor\",\"t2_baron\",\"t2_dragon\"],\n",
    "         \"value\":[1,1,2,1,1,1,12,3,2,5,9,3,2,2]}\n",
    "game_frame=pd.DataFrame(game).T\n",
    "game_frame"
   ]
  },
  {
   "cell_type": "code",
   "execution_count": null,
   "id": "2ebedaa4",
   "metadata": {
    "execution": {
     "iopub.execute_input": "2023-09-08T11:38:22.324577Z",
     "iopub.status.busy": "2023-09-08T11:38:22.324059Z",
     "iopub.status.idle": "2023-09-08T11:38:22.375914Z",
     "shell.execute_reply": "2023-09-08T11:38:22.374621Z"
    },
    "papermill": {
     "duration": 0.069595,
     "end_time": "2023-09-08T11:38:22.378789",
     "exception": false,
     "start_time": "2023-09-08T11:38:22.309194",
     "status": "completed"
    },
    "tags": []
   },
   "outputs": [],
   "source": [
    "results_of_game = game_frame.loc['value'].values.reshape(1, -1)\n",
    "print(\"Using Tree:\")\n",
    "print(\"The Winner team will be:\",best_tree_model.predict(results_of_game))\n",
    "print(f\"The Percent of team 1 to win was :{best_tree_model.predict_proba(results_of_game)[0][0]:.0%}, while team number 2 was :{best_tree_model.predict_proba(results_of_game)[0][1]:.0%}\")\n",
    "print(\"Using RandomForest:\")\n",
    "print(\"The Winner team will be:\",best_rf_model.predict(results_of_game))\n",
    "print(f\"The Percent of team 1 to win was :{best_rf_model.predict_proba(results_of_game)[0][0]:.0%}, while team number 2 was :{best_rf_model.predict_proba(results_of_game)[0][1]:.0%}\")"
   ]
  },
  {
   "cell_type": "code",
   "execution_count": null,
   "id": "31adf1ff",
   "metadata": {
    "execution": {
     "iopub.execute_input": "2023-09-08T11:38:22.407514Z",
     "iopub.status.busy": "2023-09-08T11:38:22.406674Z",
     "iopub.status.idle": "2023-09-08T11:38:22.443917Z",
     "shell.execute_reply": "2023-09-08T11:38:22.442674Z"
    },
    "papermill": {
     "duration": 0.054915,
     "end_time": "2023-09-08T11:38:22.446707",
     "exception": false,
     "start_time": "2023-09-08T11:38:22.391792",
     "status": "completed"
    },
    "tags": []
   },
   "outputs": [],
   "source": [
    "import pickle\n",
    "\n",
    "# Open the pickle file for reading (rb stands for \"read binary\")\n",
    "with open(\"tree.pkl\", \"wb\") as file:\n",
    "    # Load the data from the pickle file\n",
    "    loaded_data = pickle.dump(best_tree_model,file)\n",
    "\n",
    "# Open the pickle file for reading (rb stands for \"read binary\")\n",
    "with open(\"rf.pkl\", \"wb\") as file:\n",
    "    # Load the data from the pickle file\n",
    "    loaded_data = pickle.dump(best_rf_model,file)\n",
    "\n",
    "\n",
    "print(\"Done Tree model and rf\")\n"
   ]
  }
 ],
 "kernelspec": {
  "display_name": "Python 3",
  "language": "python",
  "name": "python3"
 },
 "language_info": {
  "codemirror_mode": {
   "name": "ipython",
   "version": 3
  },
  "file_extension": ".py",
  "mimetype": "text/x-python",
  "name": "python",
  "nbconvert_exporter": "python",
  "pygments_lexer": "ipython3",
  "version": "3.6.4"
 },
 "metadata": {
  "kernelspec": {
   "display_name": "Python 3",
   "language": "python",
   "name": "python3"
  },
  "language_info": {
   "codemirror_mode": {
    "name": "ipython",
    "version": 3
   },
   "file_extension": ".py",
   "mimetype": "text/x-python",
   "name": "python",
   "nbconvert_exporter": "python",
   "pygments_lexer": "ipython3",
   "version": "3.10.10"
  },
  "papermill": {
   "default_parameters": {},
   "duration": 396.752462,
   "end_time": "2023-09-08T11:38:23.385433",
   "environment_variables": {},
   "exception": null,
   "input_path": "__notebook__.ipynb",
   "output_path": "__notebook__.ipynb",
   "parameters": {},
   "start_time": "2023-09-08T11:31:46.632971",
   "version": "2.4.0"
  }
 },
 "nbformat": 4,
 "nbformat_minor": 5
}
